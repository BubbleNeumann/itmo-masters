{
 "cells": [
  {
   "metadata": {
    "ExecuteTime": {
     "end_time": "2025-06-18T18:29:52.530739Z",
     "start_time": "2025-06-18T18:29:41.237458Z"
    }
   },
   "cell_type": "code",
   "source": [
    "import re\n",
    "from sklearn.metrics.pairwise import cosine_similarity\n",
    "import torch\n",
    "import torch.nn as nn\n",
    "import json\n",
    "from torch.utils.data import Dataset, DataLoader\n",
    "from sklearn.metrics import classification_report\n",
    "\n"
   ],
   "id": "fb6677f1abbaeff3",
   "outputs": [],
   "execution_count": 1
  },
  {
   "metadata": {
    "ExecuteTime": {
     "end_time": "2025-06-18T18:29:52.543716Z",
     "start_time": "2025-06-18T18:29:52.540049Z"
    }
   },
   "cell_type": "code",
   "source": [
    "def preprocess_label(label: str) -> list[str]:\n",
    "\t\"\"\"Normalize and split a JSON label into hierarchical components.\"\"\"\n",
    "\t\n",
    "\tlabel = label.lower()\n",
    "\tlabel = re.sub(r'[\\./_\\-]+', '.', label)\n",
    "\tlabel = re.sub(r'[^a-z0-9\\.]', '', label)\n",
    "\tcomponents = [comp for comp in label.split('.') if comp]\n",
    "\t\n",
    "\treturn components"
   ],
   "id": "a82a3e735a2f4f99",
   "outputs": [],
   "execution_count": 2
  },
  {
   "metadata": {
    "ExecuteTime": {
     "end_time": "2025-06-18T18:29:52.555262Z",
     "start_time": "2025-06-18T18:29:52.552461Z"
    }
   },
   "cell_type": "code",
   "source": [
    "print(preprocess_label(\"Device..Battery_Voltage-Max\"))\n",
    "print(preprocess_label(\"user/id\"))\n",
    "print(preprocess_label(\"  \"))"
   ],
   "id": "cba4e85bf7ea4f58",
   "outputs": [
    {
     "name": "stdout",
     "output_type": "stream",
     "text": [
      "['device', 'battery', 'voltage', 'max']\n",
      "['user', 'id']\n",
      "[]\n"
     ]
    }
   ],
   "execution_count": 3
  },
  {
   "metadata": {
    "ExecuteTime": {
     "end_time": "2025-06-18T18:29:52.948986Z",
     "start_time": "2025-06-18T18:29:52.946481Z"
    }
   },
   "cell_type": "code",
   "source": [
    "class CharEmbeddingLayer(nn.Module):\n",
    "\t\"\"\"Converts characters to embeddings.\"\"\"\n",
    "\t\n",
    "\tdef __init__(self, vocab_size=128, embed_dim=400):\n",
    "\t\tnn.Module.__init__(self)\n",
    "\t\tself.embed = nn.Embedding(vocab_size, embed_dim, padding_idx=0)  # vocab size 128 covers ASCII + padding\n",
    "\t\n",
    "\tdef forward(self, chars: torch.Tensor):\n",
    "\t\treturn self.embed(chars)  # [batch, seq_len, embed_dim]\n"
   ],
   "id": "d01029dca08b76e",
   "outputs": [],
   "execution_count": 4
  },
  {
   "metadata": {
    "ExecuteTime": {
     "end_time": "2025-06-18T18:29:52.959904Z",
     "start_time": "2025-06-18T18:29:52.953812Z"
    }
   },
   "cell_type": "code",
   "source": [
    "class BilstmCnn(nn.Module):\n",
    "\tdef __init__(self, embed_dim=400, lstm_hidden=256, cnn_out=256, num_classes=3):\n",
    "\t\tsuper().__init__()\n",
    "\t\tself.char_embed = nn.Embedding(128, embed_dim, padding_idx=0)\n",
    "\t\t\n",
    "\t\tself.lstm1 = nn.LSTM(embed_dim, lstm_hidden, bidirectional=True, batch_first=True)\n",
    "\t\tself.lstm2 = nn.LSTM(lstm_hidden * 2, lstm_hidden, bidirectional=True, batch_first=True)\n",
    "\t\tself.conv = nn.Conv1d(lstm_hidden * 4, cnn_out, kernel_size=3, padding=1)\n",
    "\t\t\n",
    "\t\tself.component_proj = nn.Linear(cnn_out, cnn_out)\n",
    "\t\t\n",
    "\t\tself.fc = nn.Linear(cnn_out, num_classes)\n",
    "\t\n",
    "\tdef forward(self, x):\n",
    "\t\tif x.dim() == 2:\n",
    "\t\t\tx = x.unsqueeze(1)\n",
    "\t\t\n",
    "\t\tbatch_size, num_components, seq_len = x.shape\n",
    "\t\t\n",
    "\t\tcomponent_features = []\n",
    "\t\tfor i in range(num_components):\n",
    "\t\t\tcomp = x[:, i, :]  # [batch, seq_len]\n",
    "\t\t\t\n",
    "\t\t\temb = self.char_embed(comp)\n",
    "\t\t\t\n",
    "\t\t\th1, _ = self.lstm1(emb)\n",
    "\t\t\th2, _ = self.lstm2(h1)\n",
    "\t\t\th = torch.cat([h1, h2], dim=-1)\n",
    "\t\t\t\n",
    "\t\t\th = h.permute(0, 2, 1)\n",
    "\t\t\tcnn_out = torch.relu(self.conv(h))\n",
    "\t\t\tpooled = torch.max(cnn_out, dim=2)[0]  # [batch, cnn_out]\n",
    "\t\t\t\n",
    "\t\t\tcomponent_features.append(pooled)\n",
    "\t\t\n",
    "\t\tcomponents = torch.stack(component_features, dim=1)\n",
    "\t\taggregated = torch.mean(components, dim=1)  # [batch, cnn_out]\n",
    "\t\t\n",
    "\t\treturn self.fc(aggregated)"
   ],
   "id": "cc3c98415c1bf7e4",
   "outputs": [],
   "execution_count": 5
  },
  {
   "metadata": {
    "ExecuteTime": {
     "end_time": "2025-06-18T18:29:53.181537Z",
     "start_time": "2025-06-18T18:29:53.005790Z"
    }
   },
   "cell_type": "code",
   "source": [
    "model = BilstmCnn()\n",
    "char_to_idx = {chr(i): i + 2 for i in range(128)}\n",
    "input_tensor = torch.tensor([[char_to_idx[c] for c in \"battery\"[:20]]])  # [1, 20]\n",
    "output = model(input_tensor)"
   ],
   "id": "6f6737bb16f4cfce",
   "outputs": [],
   "execution_count": 6
  },
  {
   "metadata": {
    "ExecuteTime": {
     "end_time": "2025-06-18T18:29:53.243802Z",
     "start_time": "2025-06-18T18:29:53.239513Z"
    }
   },
   "cell_type": "code",
   "source": "input_tensor",
   "id": "c904596fe6f8a930",
   "outputs": [
    {
     "data": {
      "text/plain": [
       "tensor([[100,  99, 118, 118, 103, 116, 123]])"
      ]
     },
     "execution_count": 7,
     "metadata": {},
     "output_type": "execute_result"
    }
   ],
   "execution_count": 7
  },
  {
   "metadata": {
    "ExecuteTime": {
     "end_time": "2025-06-18T18:29:53.277562Z",
     "start_time": "2025-06-18T18:29:53.273867Z"
    }
   },
   "cell_type": "code",
   "source": "output",
   "id": "2be6aa3ea9c56518",
   "outputs": [
    {
     "data": {
      "text/plain": [
       "tensor([[-0.1240, -0.0135, -0.0317]], grad_fn=<AddmmBackward0>)"
      ]
     },
     "execution_count": 8,
     "metadata": {},
     "output_type": "execute_result"
    }
   ],
   "execution_count": 8
  },
  {
   "metadata": {
    "ExecuteTime": {
     "end_time": "2025-06-18T18:29:53.351718Z",
     "start_time": "2025-06-18T18:29:53.306509Z"
    }
   },
   "cell_type": "code",
   "source": [
    "def label_to_embeddings(label: str, model: BilstmCnn, char_to_idx: dict, max_len=20):\n",
    "\t\"\"\"Convert a label to hierarchical embeddings.\"\"\"\n",
    "\t\n",
    "\tcomponents = preprocess_label(label)\n",
    "\tif not components:\n",
    "\t\traise ValueError(\"Invalid label: empty after preprocessing\")\n",
    "\t\n",
    "\tchar_indices = []\n",
    "\tfor comp in components:\n",
    "\t\tchars = list(comp)[:max_len]\n",
    "\t\tindices = [char_to_idx.get(c, 1) for c in chars]  # 1 = unknown token\n",
    "\t\tindices += [0] * (max_len - len(indices))\n",
    "\t\tchar_indices.append(indices)\n",
    "\t\n",
    "\tchar_tensor = torch.tensor(char_indices, dtype=torch.long)\n",
    "\t\n",
    "\twith torch.no_grad():\n",
    "\t\tcomponent_embeddings = model(char_tensor)\n",
    "\t\n",
    "\treturn {\n",
    "\t\t\"components\": components,\n",
    "\t\t\"embeddings\": component_embeddings,\n",
    "\t\t\"leaf_embedding\": component_embeddings[-1]\n",
    "\t}\n",
    "\n",
    "\n",
    "model = BilstmCnn(embed_dim=400, lstm_hidden=256, cnn_out=256)\n",
    "\n",
    "char_to_idx = {chr(i): i + 2 for i in range(128)}\n",
    "char_to_idx.update({'.': 130, '_': 131, '-': 132})\n",
    "\n",
    "label_embedding = label_to_embeddings(\n",
    "\tlabel=\"Device.Battery_Voltage\",\n",
    "\tmodel=model,\n",
    "\tchar_to_idx=char_to_idx\n",
    ")\n",
    "\n",
    "print(label_embedding[\"leaf_embedding\"].shape)"
   ],
   "id": "f417aa931c29a1a9",
   "outputs": [
    {
     "name": "stdout",
     "output_type": "stream",
     "text": [
      "torch.Size([3])\n"
     ]
    }
   ],
   "execution_count": 9
  },
  {
   "metadata": {
    "ExecuteTime": {
     "end_time": "2025-06-18T18:29:53.543242Z",
     "start_time": "2025-06-18T18:29:53.539729Z"
    }
   },
   "cell_type": "code",
   "source": [
    "def match_labels(label1: str, label2: str, model: BilstmCnn, char_to_idx: dict):\n",
    "\t\"\"\"Compare two labels hierarchically.\"\"\"\n",
    "\t\n",
    "\temb1 = label_to_embeddings(label1, model, char_to_idx)\n",
    "\temb2 = label_to_embeddings(label2, model, char_to_idx)\n",
    "\t\n",
    "\t# 1. cmp leaf nodes (primary signal)\n",
    "\tleaf_sim = 1 - cosine_similarity(\n",
    "\t\temb1[\"leaf_embedding\"].numpy().reshape(1, -1),\n",
    "\t\temb2[\"leaf_embedding\"].numpy().reshape(1, -1)\n",
    "\t)[0][0]\n",
    "\t\n",
    "\t# 2. cmp parent nodes (context)\n",
    "\tparent_sim = 0.0\n",
    "\tmin_depth = min(len(emb1[\"components\"]), len(emb2[\"components\"]))\n",
    "\tfor i in range(min_depth - 1):  # Exclude leaf\n",
    "\t\tparent_sim += 1 - cosine_similarity(\n",
    "\t\t\temb1[\"embeddings\"][i].numpy().reshape(1, -1),\n",
    "\t\t\temb2[\"embeddings\"][i].numpy().reshape(1, -1)\n",
    "\t\t)[0][0]\n",
    "\t\n",
    "\tif min_depth > 1:\n",
    "\t\tparent_sim /= (min_depth - 1)\n",
    "\t\n",
    "\treturn 0.7 * leaf_sim + 0.3 * parent_sim  # tune weights"
   ],
   "id": "8c8c11e58d9495d0",
   "outputs": [],
   "execution_count": 10
  },
  {
   "metadata": {
    "ExecuteTime": {
     "end_time": "2025-06-18T18:29:54.274427Z",
     "start_time": "2025-06-18T18:29:54.268892Z"
    }
   },
   "cell_type": "code",
   "source": [
    "class LabelDataset(Dataset):\n",
    "\tdef __init__(self, json_path, char_to_idx, max_len=20):\n",
    "\t\twith open(json_path) as f:\n",
    "\t\t\tdata = json.load(f)\n",
    "\t\t\n",
    "\t\tself.samples = []\n",
    "\t\t\n",
    "\t\tself.groups = {}\n",
    "\t\tself.char_to_idx = char_to_idx\n",
    "\t\tself.max_len = max_len\n",
    "\t\t\n",
    "\t\tself.label_to_group = {}\n",
    "\t\tgroup_ids = set()\n",
    "\t\t\n",
    "\t\tfor item in data:\n",
    "\t\t\tif 'groups' in item:\n",
    "\t\t\t\tfor group in item['groups']:\n",
    "\t\t\t\t\tgroup_id = group['id']\n",
    "\t\t\t\t\tgroup_ids.add(group_id)\n",
    "\t\t\t\t\tself.groups[group_id] = group['name']\n",
    "\t\t\t\n",
    "\t\t\tif 'labels' in item:\n",
    "\t\t\t\tfor label in item['labels']:\n",
    "\t\t\t\t\tself.label_to_group[label['id']] = label['group_id']\n",
    "\t\t\t\t\tfor sample in label['samples']:\n",
    "\t\t\t\t\t\tself.samples.append({\n",
    "\t\t\t\t\t\t\t'text': sample,\n",
    "\t\t\t\t\t\t\t'label_id': label['id'],\n",
    "\t\t\t\t\t\t\t'group_id': label['group_id']\n",
    "\t\t\t\t\t\t})\n",
    "\t\t\n",
    "\t\tself.group_to_idx = {gid: idx for idx, gid in enumerate(group_ids)}\n",
    "\t\n",
    "\tdef __len__(self):\n",
    "\t\treturn len(self.samples)\n",
    "\t\n",
    "\tdef __getitem__(self, idx):\n",
    "\t\tsample = self.samples[idx]\n",
    "\t\tcomponents = preprocess_label(sample['text'])\n",
    "\t\t\n",
    "\t\tchar_indices = []\n",
    "\t\tfor comp in components:\n",
    "\t\t\tchars = list(comp)[:self.max_len]\n",
    "\t\t\tindices = [self.char_to_idx.get(c, 1) for c in chars]  # 1=UNK\n",
    "\t\t\tindices += [0] * (self.max_len - len(indices))  # 0=PAD\n",
    "\t\t\tchar_indices.append(indices)\n",
    "\t\t\n",
    "\t\tmax_components = max(len(preprocess_label(s['text'])) for s in self.samples)\n",
    "\t\twhile len(char_indices) < max_components:\n",
    "\t\t\tchar_indices.append([0] * self.max_len)\n",
    "\t\t\n",
    "\t\treturn {\n",
    "\t\t\t'char_indices': torch.tensor(char_indices, dtype=torch.long),\n",
    "\t\t\t'label_id': torch.tensor(sample['label_id'], dtype=torch.long),\n",
    "\t\t\t'group_idx': torch.tensor(self.group_to_idx[sample['group_id']], dtype=torch.long),\n",
    "\t\t\t'text': sample['text']\n",
    "\t\t}"
   ],
   "id": "77ced2804e61f23a",
   "outputs": [],
   "execution_count": 11
  },
  {
   "metadata": {
    "ExecuteTime": {
     "end_time": "2025-06-18T18:29:54.610240Z",
     "start_time": "2025-06-18T18:29:54.607143Z"
    }
   },
   "cell_type": "code",
   "source": [
    "def collate_fn(batch):\n",
    "\treturn {\n",
    "\t\t'char_indices': torch.stack([item['char_indices'] for item in batch]),\n",
    "\t\t'label_ids': torch.stack([item['label_id'] for item in batch]),\n",
    "\t\t'group_indices': torch.stack([item['group_idx'] for item in batch]),\n",
    "\t\t'texts': [item['text'] for item in batch]\n",
    "\t}"
   ],
   "id": "df9da9edbfa1c3d4",
   "outputs": [],
   "execution_count": 12
  },
  {
   "metadata": {
    "ExecuteTime": {
     "end_time": "2025-06-18T18:29:54.625438Z",
     "start_time": "2025-06-18T18:29:54.614570Z"
    }
   },
   "cell_type": "code",
   "source": [
    "dataset = LabelDataset('labels.json', char_to_idx)\n",
    "train_loader = DataLoader(\n",
    "\tLabelDataset('labels.json', char_to_idx),\n",
    "\tbatch_size=32,\n",
    "\tshuffle=True,\n",
    "\tcollate_fn=collate_fn\n",
    ")"
   ],
   "id": "6e60c684b08e46e",
   "outputs": [],
   "execution_count": 13
  },
  {
   "metadata": {
    "ExecuteTime": {
     "end_time": "2025-06-18T18:29:54.632115Z",
     "start_time": "2025-06-18T18:29:54.629323Z"
    }
   },
   "cell_type": "code",
   "source": [
    "num_classes = len(set(dataset.group_to_idx.values()))\n",
    "print(f\"Number of classes: {num_classes}\")"
   ],
   "id": "909137b6eb4acbcf",
   "outputs": [
    {
     "name": "stdout",
     "output_type": "stream",
     "text": [
      "Number of classes: 43\n"
     ]
    }
   ],
   "execution_count": 14
  },
  {
   "metadata": {
    "ExecuteTime": {
     "end_time": "2025-06-18T18:29:54.681762Z",
     "start_time": "2025-06-18T18:29:54.655701Z"
    }
   },
   "cell_type": "code",
   "source": [
    "# init model and character mapping\n",
    "model = BilstmCnn(embed_dim=400, lstm_hidden=256, cnn_out=256, num_classes=num_classes)\n",
    "char_to_idx = {chr(i): i + 2 for i in range(128)}\n",
    "char_to_idx.update({'.': 130, '_': 131, '-': 132})\n",
    "\n",
    "similarity = match_labels(\n",
    "\tlabel1=\"sensor.voltage\",\n",
    "\tlabel2=\"device.batt_v\",\n",
    "\tmodel=model,\n",
    "\tchar_to_idx=char_to_idx\n",
    ")\n",
    "\n",
    "print(f\"Similarity: {similarity:.4f}\")"
   ],
   "id": "601e3aa69516b4f9",
   "outputs": [
    {
     "name": "stdout",
     "output_type": "stream",
     "text": [
      "Similarity: 0.2026\n"
     ]
    }
   ],
   "execution_count": 15
  },
  {
   "metadata": {},
   "cell_type": "markdown",
   "source": "### Training Setup",
   "id": "471d4f25d1347c9c"
  },
  {
   "metadata": {
    "ExecuteTime": {
     "end_time": "2025-06-18T18:29:59.677006Z",
     "start_time": "2025-06-18T18:29:54.688842Z"
    }
   },
   "cell_type": "code",
   "source": [
    "device = torch.device('cuda' if torch.cuda.is_available() else 'cpu')\n",
    "model = model.to(device)\n",
    "optimizer = torch.optim.RMSprop(model.parameters(), lr=0.001)\n",
    "criterion = nn.CrossEntropyLoss()"
   ],
   "id": "564f240064822fec",
   "outputs": [],
   "execution_count": 16
  },
  {
   "metadata": {},
   "cell_type": "markdown",
   "source": "### Training Loop",
   "id": "f671f7926e5cc31"
  },
  {
   "metadata": {
    "ExecuteTime": {
     "end_time": "2025-06-18T18:30:24.606929Z",
     "start_time": "2025-06-18T18:29:59.684018Z"
    }
   },
   "cell_type": "code",
   "source": [
    "for epoch in range(15):\n",
    "\tmodel.train()\n",
    "\ttotal_loss = 0\n",
    "\t\n",
    "\tfor batch in train_loader:\n",
    "\t\tinputs = batch['char_indices'].to(device)  # [batch, num_components, seq_len]\n",
    "\t\tlabels = batch['group_indices'].to(device)\n",
    "\t\t\n",
    "\t\toptimizer.zero_grad()\n",
    "\t\toutputs = model(inputs)\n",
    "\t\tloss = criterion(outputs, labels)\n",
    "\t\tloss.backward()\n",
    "\t\toptimizer.step()\n",
    "\t\t\n",
    "\t\ttotal_loss += loss.item()\n",
    "\t\n",
    "\tprint(f'Epoch {epoch + 1}, Loss: {total_loss / len(train_loader):.4f}')\n"
   ],
   "id": "548bc48d73812c33",
   "outputs": [
    {
     "name": "stdout",
     "output_type": "stream",
     "text": [
      "Epoch 1, Loss: 3.1629\n",
      "Epoch 2, Loss: 1.8065\n",
      "Epoch 3, Loss: 0.9214\n",
      "Epoch 4, Loss: 0.5643\n",
      "Epoch 5, Loss: 0.3357\n",
      "Epoch 6, Loss: 0.1919\n",
      "Epoch 7, Loss: 0.1115\n",
      "Epoch 8, Loss: 0.0866\n",
      "Epoch 9, Loss: 0.0675\n",
      "Epoch 10, Loss: 0.0199\n",
      "Epoch 11, Loss: 0.0138\n",
      "Epoch 12, Loss: 0.0084\n",
      "Epoch 13, Loss: 0.0085\n",
      "Epoch 14, Loss: 0.0075\n",
      "Epoch 15, Loss: 0.0049\n"
     ]
    }
   ],
   "execution_count": 17
  },
  {
   "metadata": {
    "ExecuteTime": {
     "end_time": "2025-06-18T18:30:25.268910Z",
     "start_time": "2025-06-18T18:30:24.616952Z"
    }
   },
   "cell_type": "code",
   "source": [
    "model.eval()\n",
    "all_preds = []\n",
    "all_labels = []\n",
    "all_texts = []\n",
    "\n",
    "with torch.no_grad():\n",
    "\tfor batch in train_loader:\n",
    "\t\tinputs = batch['char_indices'].to(device)\n",
    "\t\tlabels = batch['group_indices'].cpu().numpy()\n",
    "\t\ttexts = batch['texts']\n",
    "\t\t\n",
    "\t\toutputs = model(inputs)\n",
    "\t\tpreds = torch.argmax(outputs, dim=1).cpu().numpy()\n",
    "\t\t\n",
    "\t\tall_preds.extend(preds)\n",
    "\t\tall_labels.extend(labels)\n",
    "\t\tall_texts.extend(texts)\n",
    "\n",
    "unique_labels = sorted(set(all_labels))\n",
    "num_classes_eval = len(unique_labels)\n",
    "target_names = [f\"Group {i}\" for i in unique_labels]\n",
    "\n",
    "print(classification_report(all_labels, all_preds, target_names=target_names))\n",
    "\n",
    "print(\"\\nSample predictions:\")\n",
    "for text, pred, true in zip(all_texts[:5], all_preds[:5], all_labels[:5]):\n",
    "\tprint(f\"Text: {text:<30} | Predicted: {pred} | True: {true}\")"
   ],
   "id": "1dae6ac69f6a5072",
   "outputs": [
    {
     "name": "stdout",
     "output_type": "stream",
     "text": [
      "              precision    recall  f1-score   support\n",
      "\n",
      "     Group 0       1.00      1.00      1.00        27\n",
      "     Group 1       1.00      1.00      1.00        59\n",
      "     Group 2       1.00      1.00      1.00         9\n",
      "     Group 3       1.00      1.00      1.00        13\n",
      "     Group 4       1.00      1.00      1.00        10\n",
      "     Group 5       1.00      1.00      1.00         9\n",
      "     Group 6       1.00      1.00      1.00         3\n",
      "     Group 7       1.00      1.00      1.00         5\n",
      "     Group 8       1.00      1.00      1.00         6\n",
      "     Group 9       1.00      1.00      1.00         1\n",
      "    Group 10       1.00      1.00      1.00        10\n",
      "    Group 11       1.00      1.00      1.00        27\n",
      "    Group 12       1.00      1.00      1.00         6\n",
      "    Group 13       1.00      1.00      1.00         6\n",
      "    Group 14       1.00      1.00      1.00         2\n",
      "    Group 15       1.00      1.00      1.00         1\n",
      "    Group 16       1.00      1.00      1.00         5\n",
      "    Group 17       1.00      1.00      1.00         7\n",
      "    Group 18       1.00      1.00      1.00         4\n",
      "    Group 19       1.00      1.00      1.00        18\n",
      "    Group 20       1.00      1.00      1.00         4\n",
      "    Group 21       1.00      1.00      1.00         2\n",
      "    Group 22       1.00      1.00      1.00        15\n",
      "    Group 23       1.00      1.00      1.00         3\n",
      "    Group 24       1.00      1.00      1.00         1\n",
      "    Group 25       1.00      1.00      1.00         4\n",
      "    Group 26       1.00      1.00      1.00         2\n",
      "    Group 27       1.00      1.00      1.00         4\n",
      "    Group 30       1.00      1.00      1.00         2\n",
      "    Group 31       1.00      1.00      1.00         2\n",
      "    Group 32       1.00      1.00      1.00         3\n",
      "    Group 33       1.00      1.00      1.00         5\n",
      "    Group 34       1.00      1.00      1.00         2\n",
      "    Group 35       1.00      1.00      1.00         1\n",
      "    Group 36       1.00      1.00      1.00         1\n",
      "    Group 37       1.00      1.00      1.00         1\n",
      "    Group 38       1.00      1.00      1.00         1\n",
      "    Group 39       1.00      1.00      1.00         2\n",
      "    Group 40       1.00      1.00      1.00         1\n",
      "    Group 41       1.00      1.00      1.00         2\n",
      "    Group 42       1.00      1.00      1.00         3\n",
      "\n",
      "    accuracy                           1.00       289\n",
      "   macro avg       1.00      1.00      1.00       289\n",
      "weighted avg       1.00      1.00      1.00       289\n",
      "\n",
      "\n",
      "Sample predictions:\n",
      "Text: ADCRawChange                   | Predicted: 7 | True: 7\n",
      "Text: Supply_Voltage                 | Predicted: 3 | True: 3\n",
      "Text: ram_total                      | Predicted: 23 | True: 23\n",
      "Text: temperatureAlertActive         | Predicted: 1 | True: 1\n",
      "Text: bat_mV                         | Predicted: 0 | True: 0\n"
     ]
    }
   ],
   "execution_count": 18
  },
  {
   "metadata": {
    "ExecuteTime": {
     "end_time": "2025-06-18T18:30:25.343317900Z",
     "start_time": "2025-06-17T20:12:16.436800Z"
    }
   },
   "cell_type": "code",
   "source": [
    "def classify_json_labels(json_data, model, char_to_idx):\n",
    "\t# extract all potential labels from json\n",
    "\tlabels = set()\n",
    "\t\n",
    "\tdef extract_strings(data):\n",
    "\t\tif isinstance(data, dict):\n",
    "\t\t\tfor key, value in data.items():\n",
    "\t\t\t\tlabels.add(key)\n",
    "\t\t\t\textract_strings(value)\n",
    "\t\telif isinstance(data, list):\n",
    "\t\t\tfor item in data:\n",
    "\t\t\t\textract_strings(item)\n",
    "\t\telif isinstance(data, str):\n",
    "\t\t\tlabels.add(data)\n",
    "\t\n",
    "\textract_strings(json_data)\n",
    "\t\n",
    "\tresults = []\n",
    "\tfor label in labels:\n",
    "\t\ttry:\n",
    "\t\t\tif not isinstance(label, str) or not label.strip():\n",
    "\t\t\t\tcontinue\n",
    "\t\t\t\n",
    "\t\t\twith torch.no_grad():\n",
    "\t\t\t\t# label to proper input format\n",
    "\t\t\t\tcomponents = preprocess_label(label)\n",
    "\t\t\t\tif not components:\n",
    "\t\t\t\t\tcontinue\n",
    "\t\t\t\t\n",
    "\t\t\t\t# character indices tensor with correct type\n",
    "\t\t\t\tchar_indices = []\n",
    "\t\t\t\tfor comp in components:\n",
    "\t\t\t\t\tchars = list(comp)[:20]  # max_len=20\n",
    "\t\t\t\t\tindices = [char_to_idx.get(c, 1) for c in chars] + [0] * (20 - len(chars))\n",
    "\t\t\t\t\tchar_indices.append(indices)\n",
    "\t\t\t\t\n",
    "\t\t\t\tinputs = torch.tensor(char_indices, dtype=torch.long).unsqueeze(0)  # add batch dim\n",
    "\t\t\t\tinputs = inputs.to(device)\n",
    "\t\t\t\t\n",
    "\t\t\t\toutputs = model(inputs)\n",
    "\t\t\t\tpred = torch.argmax(outputs, dim=1).item()\n",
    "\t\t\t\n",
    "\t\t\tresults.append({\n",
    "\t\t\t\t'original_label': label,\n",
    "\t\t\t\t'predicted_group': pred,\n",
    "\t\t\t\t'components': components\n",
    "\t\t\t})\n",
    "\t\texcept Exception as e:\n",
    "\t\t\tprint(f\"Error processing label '{label}': {str(e)}\")\n",
    "\t\n",
    "\treturn results\n",
    "\n",
    "\n",
    "with open('adeunis--arf8123aa.json') as f:\n",
    "\tjson_data = json.load(f)\n",
    "\n",
    "classification_results = classify_json_labels(json_data, model, char_to_idx)\n",
    "\n",
    "print(\"Label Classification Results:\")\n",
    "print(\"-\" * 50)\n",
    "for result in classification_results:\n",
    "\tprint(f\"Original: {result['original_label']}\")\n",
    "\tprint(f\"Components: {result['components']}\")\n",
    "\tprint(f\"Predicted Group: {result['predicted_group']} => {dataset.groups[result['predicted_group']]}\")\n",
    "\tprint(\"-\" * 50)"
   ],
   "id": "d734f1e38de5de3a",
   "outputs": [
    {
     "name": "stdout",
     "output_type": "stream",
     "text": [
      "Label Classification Results:\n",
      "--------------------------------------------------\n",
      "Original: deviceProfileId\n",
      "Components: ['deviceprofileid']\n",
      "Predicted Group: 1 => temperature\n",
      "--------------------------------------------------\n",
      "Original: rfChain\n",
      "Components: ['rfchain']\n",
      "Predicted Group: 4 => current\n",
      "--------------------------------------------------\n",
      "Original: applicationName\n",
      "Components: ['applicationname']\n",
      "Predicted Group: 31 => availability\n",
      "--------------------------------------------------\n",
      "Original: Poor\n",
      "Components: ['poor']\n",
      "Predicted Group: 10 => power\n",
      "--------------------------------------------------\n",
      "Original: eu868\n",
      "Components: ['eu868']\n",
      "Predicted Group: 11 => humidity_status\n",
      "--------------------------------------------------\n",
      "Original: lora\n",
      "Components: ['lora']\n",
      "Predicted Group: 25 => LoRaWAN\n",
      "--------------------------------------------------\n",
      "Original: dc82f4d8-d700-49ca-8137-1d98f736d686\n",
      "Components: ['dc82f4d8', 'd700', '49ca', '8137', '1d98f736d686']\n",
      "Predicted Group: 5 => limit_switch\n",
      "--------------------------------------------------\n",
      "Original: general-device\n",
      "Components: ['general', 'device']\n",
      "Predicted Group: 2 => leak\n",
      "--------------------------------------------------\n",
      "Original: codeRate\n",
      "Components: ['coderate']\n",
      "Predicted Group: 13 => co2\n",
      "--------------------------------------------------\n",
      "Original: dl_counter\n",
      "Components: ['dl', 'counter']\n",
      "Predicted Group: 34 => errors\n",
      "--------------------------------------------------\n",
      "Original: East\n",
      "Components: ['east']\n",
      "Predicted Group: 41 => events\n",
      "--------------------------------------------------\n",
      "Original: gatewayId\n",
      "Components: ['gatewayid']\n",
      "Predicted Group: 22 => distance\n",
      "--------------------------------------------------\n",
      "Original: CLASS_A\n",
      "Components: ['class', 'a']\n",
      "Predicted Group: 19 => location\n",
      "--------------------------------------------------\n",
      "Original: tags\n",
      "Components: ['tags']\n",
      "Predicted Group: 19 => location\n",
      "--------------------------------------------------\n",
      "Original: koterberg\n",
      "Components: ['koterberg']\n",
      "Predicted Group: 2 => leak\n",
      "--------------------------------------------------\n",
      "Original: battery_level\n",
      "Components: ['battery', 'level']\n",
      "Predicted Group: 0 => battery_status\n",
      "--------------------------------------------------\n",
      "Original: snr\n",
      "Components: ['snr']\n",
      "Predicted Group: 18 => snr\n",
      "--------------------------------------------------\n",
      "Original: 013517b1\n",
      "Components: ['013517b1']\n",
      "Predicted Group: 0 => battery_status\n",
      "--------------------------------------------------\n",
      "Original: wireless\n",
      "Components: ['wireless']\n",
      "Predicted Group: 12 => pressure\n",
      "--------------------------------------------------\n",
      "Original: gps_quality\n",
      "Components: ['gps', 'quality']\n",
      "Predicted Group: 19 => location\n",
      "--------------------------------------------------\n",
      "Original: rssi\n",
      "Components: ['rssi']\n",
      "Predicted Group: 17 => rssi\n",
      "--------------------------------------------------\n",
      "Original: df15ec22-4714-4188-8781-67f8cdda5628\n",
      "Components: ['df15ec22', '4714', '4188', '8781', '67f8cdda5628']\n",
      "Predicted Group: 13 => co2\n",
      "--------------------------------------------------\n",
      "Original: 1395007700.650s\n",
      "Components: ['1395007700', '650s']\n",
      "Predicted Group: 19 => location\n",
      "--------------------------------------------------\n",
      "Original: deviceName\n",
      "Components: ['devicename']\n",
      "Predicted Group: 42 => time\n",
      "--------------------------------------------------\n",
      "Original: ATKQTA==\n",
      "Components: ['atkqta']\n",
      "Predicted Group: 0 => battery_status\n",
      "--------------------------------------------------\n",
      "Original: object\n",
      "Components: ['object']\n",
      "Predicted Group: 0 => battery_status\n",
      "--------------------------------------------------\n",
      "Original: rssi_dl\n",
      "Components: ['rssi', 'dl']\n",
      "Predicted Group: 17 => rssi\n",
      "--------------------------------------------------\n",
      "Original: 1886c85a-96bb-4a7f-948d-a6fe8fc9ec1a\n",
      "Components: ['1886c85a', '96bb', '4a7f', '948d', 'a6fe8fc9ec1a']\n",
      "Predicted Group: 7 => adc\n",
      "--------------------------------------------------\n",
      "Original: timeSinceGpsEpoch\n",
      "Components: ['timesincegpsepoch']\n",
      "Predicted Group: 1 => temperature\n",
      "--------------------------------------------------\n",
      "Original: deviceProfileName\n",
      "Components: ['deviceprofilename']\n",
      "Predicted Group: 1 => temperature\n",
      "--------------------------------------------------\n",
      "Original: region_common_name\n",
      "Components: ['region', 'common', 'name']\n",
      "Predicted Group: 33 => motor\n",
      "--------------------------------------------------\n",
      "Original: 52af4f19-2c93-4497-96df-318e4b3198a9\n",
      "Components: ['52af4f19', '2c93', '4497', '96df', '318e4b3198a9']\n",
      "Predicted Group: 13 => co2\n",
      "--------------------------------------------------\n",
      "Original: long_hemisphere\n",
      "Components: ['long', 'hemisphere']\n",
      "Predicted Group: 19 => location\n",
      "--------------------------------------------------\n",
      "Original: modulation\n",
      "Components: ['modulation']\n",
      "Predicted Group: 11 => humidity_status\n",
      "--------------------------------------------------\n",
      "Original: applicationId\n",
      "Components: ['applicationid']\n",
      "Predicted Group: 19 => location\n",
      "--------------------------------------------------\n",
      "Original: n51QOHlQARIVADdPERBggvE=\n",
      "Components: ['n51qohlqarivaddperbggve']\n",
      "Predicted Group: 27 => modification\n",
      "--------------------------------------------------\n",
      "Original: hdop\n",
      "Components: ['hdop']\n",
      "Predicted Group: 39 => metrics\n",
      "--------------------------------------------------\n",
      "Original: spreadingFactor\n",
      "Components: ['spreadingfactor']\n",
      "Predicted Group: 10 => power\n",
      "--------------------------------------------------\n",
      "Original: 2024-03-20T22:08:02.650+00:00\n",
      "Components: ['2024', '03', '20t220802', '6500000']\n",
      "Predicted Group: 13 => co2\n",
      "--------------------------------------------------\n",
      "Original: temperature\n",
      "Components: ['temperature']\n",
      "Predicted Group: 1 => temperature\n",
      "--------------------------------------------------\n",
      "Original: lati_hemisphere\n",
      "Components: ['lati', 'hemisphere']\n",
      "Predicted Group: 19 => location\n",
      "--------------------------------------------------\n",
      "Original: channel\n",
      "Components: ['channel']\n",
      "Predicted Group: 34 => errors\n",
      "--------------------------------------------------\n",
      "Original: longitude\n",
      "Components: ['longitude']\n",
      "Predicted Group: 19 => location\n",
      "--------------------------------------------------\n",
      "Original: fPort\n",
      "Components: ['fport']\n",
      "Predicted Group: 38 => ports\n",
      "--------------------------------------------------\n",
      "Original: fCnt\n",
      "Components: ['fcnt']\n",
      "Predicted Group: 4 => current\n",
      "--------------------------------------------------\n",
      "Original: 262607ccf800f1ad\n",
      "Components: ['262607ccf800f1ad']\n",
      "Predicted Group: 13 => co2\n",
      "--------------------------------------------------\n",
      "Original: frequency\n",
      "Components: ['frequency']\n",
      "Predicted Group: 23 => ram\n",
      "--------------------------------------------------\n",
      "Original: tenantName\n",
      "Components: ['tenantname']\n",
      "Predicted Group: 2 => leak\n",
      "--------------------------------------------------\n",
      "Original: latitude\n",
      "Components: ['latitude']\n",
      "Predicted Group: 19 => location\n",
      "--------------------------------------------------\n",
      "Original: deviceInfo\n",
      "Components: ['deviceinfo']\n",
      "Predicted Group: 22 => distance\n",
      "--------------------------------------------------\n",
      "Original: altitude\n",
      "Components: ['altitude']\n",
      "Predicted Group: 19 => location\n",
      "--------------------------------------------------\n",
      "Original: devEui\n",
      "Components: ['deveui']\n",
      "Predicted Group: 11 => humidity_status\n",
      "--------------------------------------------------\n",
      "Original: uplinkId\n",
      "Components: ['uplinkid']\n",
      "Predicted Group: 11 => humidity_status\n",
      "--------------------------------------------------\n",
      "Original: data\n",
      "Components: ['data']\n",
      "Predicted Group: 22 => distance\n",
      "--------------------------------------------------\n",
      "Original: adr\n",
      "Components: ['adr']\n",
      "Predicted Group: 7 => adc\n",
      "--------------------------------------------------\n",
      "Original: CR_4_5\n",
      "Components: ['cr', '4', '5']\n",
      "Predicted Group: 7 => adc\n",
      "--------------------------------------------------\n",
      "Original: 9F9D5038795001121500374F11106082F1\n",
      "Components: ['9f9d5038795001121500374f11106082f1']\n",
      "Predicted Group: 5 => limit_switch\n",
      "--------------------------------------------------\n",
      "Original: 1395007700.102470460s\n",
      "Components: ['1395007700', '102470460s']\n",
      "Predicted Group: 19 => location\n",
      "--------------------------------------------------\n",
      "Original: rxInfo\n",
      "Components: ['rxinfo']\n",
      "Predicted Group: 17 => rssi\n",
      "--------------------------------------------------\n",
      "Original: metadata\n",
      "Components: ['metadata']\n",
      "Predicted Group: 2 => leak\n",
      "--------------------------------------------------\n",
      "Original: context\n",
      "Components: ['context']\n",
      "Predicted Group: 26 => additional_devices\n",
      "--------------------------------------------------\n",
      "Original: snr_dl\n",
      "Components: ['snr', 'dl']\n",
      "Predicted Group: 18 => snr\n",
      "--------------------------------------------------\n",
      "Original: bc0e8c49-51d1-4ebc-b3c1-5259ef9c034a\n",
      "Components: ['bc0e8c49', '51d1', '4ebc', 'b3c1', '5259ef9c034a']\n",
      "Predicted Group: 32 => serviceability\n",
      "--------------------------------------------------\n",
      "Original: txInfo\n",
      "Components: ['txinfo']\n",
      "Predicted Group: 19 => location\n",
      "--------------------------------------------------\n",
      "Original: payload\n",
      "Components: ['payload']\n",
      "Predicted Group: 27 => modification\n",
      "--------------------------------------------------\n",
      "Original: ul_counter\n",
      "Components: ['ul', 'counter']\n",
      "Predicted Group: 34 => errors\n",
      "--------------------------------------------------\n",
      "Original: bandwidth\n",
      "Components: ['bandwidth']\n",
      "Predicted Group: 22 => distance\n",
      "--------------------------------------------------\n",
      "Original: devAddr\n",
      "Components: ['devaddr']\n",
      "Predicted Group: 7 => adc\n",
      "--------------------------------------------------\n",
      "Original: fineTimeSinceGpsEpoch\n",
      "Components: ['finetimesincegpsepoch']\n",
      "Predicted Group: 1 => temperature\n",
      "--------------------------------------------------\n",
      "Original: 0018b20000026d0d\n",
      "Components: ['0018b20000026d0d']\n",
      "Predicted Group: 5 => limit_switch\n",
      "--------------------------------------------------\n",
      "Original: EU868\n",
      "Components: ['eu868']\n",
      "Predicted Group: 11 => humidity_status\n",
      "--------------------------------------------------\n",
      "Original: dr\n",
      "Components: ['dr']\n",
      "Predicted Group: 5 => limit_switch\n",
      "--------------------------------------------------\n",
      "Original: sats\n",
      "Components: ['sats']\n",
      "Predicted Group: 19 => location\n",
      "--------------------------------------------------\n",
      "Original: 2024-03-20T22:08:02.650663+00:00\n",
      "Components: ['2024', '03', '20t220802', '6506630000']\n",
      "Predicted Group: 13 => co2\n",
      "--------------------------------------------------\n",
      "Original: deduplicationId\n",
      "Components: ['deduplicationid']\n",
      "Predicted Group: 22 => distance\n",
      "--------------------------------------------------\n",
      "Original: region_config_id\n",
      "Components: ['region', 'config', 'id']\n",
      "Predicted Group: 5 => limit_switch\n",
      "--------------------------------------------------\n",
      "Original: adeunis--arf8123aa-EU863-870\n",
      "Components: ['adeunis', 'arf8123aa', 'eu863', '870']\n",
      "Predicted Group: 11 => humidity_status\n",
      "--------------------------------------------------\n",
      "Original: time\n",
      "Components: ['time']\n",
      "Predicted Group: 42 => time\n",
      "--------------------------------------------------\n",
      "Original: confirmed\n",
      "Components: ['confirmed']\n",
      "Predicted Group: 34 => errors\n",
      "--------------------------------------------------\n",
      "Original: North\n",
      "Components: ['north']\n",
      "Predicted Group: 33 => motor\n",
      "--------------------------------------------------\n",
      "Original: location\n",
      "Components: ['location']\n",
      "Predicted Group: 19 => location\n",
      "--------------------------------------------------\n",
      "Original: tenantId\n",
      "Components: ['tenantid']\n",
      "Predicted Group: 22 => distance\n",
      "--------------------------------------------------\n",
      "Original: deviceClassEnabled\n",
      "Components: ['deviceclassenabled']\n",
      "Predicted Group: 22 => distance\n",
      "--------------------------------------------------\n"
     ]
    }
   ],
   "execution_count": 45
  }
 ],
 "metadata": {
  "kernelspec": {
   "display_name": "Python 3",
   "language": "python",
   "name": "python3"
  },
  "language_info": {
   "codemirror_mode": {
    "name": "ipython",
    "version": 2
   },
   "file_extension": ".py",
   "mimetype": "text/x-python",
   "name": "python",
   "nbconvert_exporter": "python",
   "pygments_lexer": "ipython2",
   "version": "2.7.6"
  }
 },
 "nbformat": 4,
 "nbformat_minor": 5
}
