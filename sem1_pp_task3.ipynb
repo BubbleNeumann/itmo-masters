{
 "cells": [
  {
   "cell_type": "code",
   "execution_count": 1,
   "id": "189111b3",
   "metadata": {
    "id": "189111b3"
   },
   "outputs": [],
   "source": [
    "# create spark sesh\n",
    "from pyspark.sql import SparkSession\n",
    "from pyspark.sql.functions import col, udf, monotonically_increasing_id, mean, lit\n",
    "from pyspark.sql.types import IntegerType, StringType\n",
    "\n",
    "spark = SparkSession.builder.master(\"local[2]\") \\\n",
    "    .appName(\"Card Dataset Analysis\") \\\n",
    "    .config(\"spark.driver.memory\", \"2g\") \\\n",
    "    .getOrCreate()\n"
   ]
  },
  {
   "cell_type": "code",
   "execution_count": 3,
   "id": "45eecb79",
   "metadata": {
    "colab": {
     "base_uri": "https://localhost:8080/"
    },
    "id": "45eecb79",
    "outputId": "96125abf-ac58-4b50-f7e5-59bc43291074"
   },
   "outputs": [
    {
     "output_type": "stream",
     "name": "stdout",
     "text": [
      "root\n",
      " |-- artist: string (nullable = true)\n",
      " |-- attack: long (nullable = true)\n",
      " |-- cardClass: string (nullable = true)\n",
      " |-- classes: array (nullable = true)\n",
      " |    |-- element: string (containsNull = true)\n",
      " |-- collectible: boolean (nullable = true)\n",
      " |-- collectionText: string (nullable = true)\n",
      " |-- cost: long (nullable = true)\n",
      " |-- dbfId: long (nullable = true)\n",
      " |-- durability: long (nullable = true)\n",
      " |-- elite: boolean (nullable = true)\n",
      " |-- entourage: array (nullable = true)\n",
      " |    |-- element: string (containsNull = true)\n",
      " |-- faction: string (nullable = true)\n",
      " |-- flavor: string (nullable = true)\n",
      " |-- health: long (nullable = true)\n",
      " |-- hideStats: boolean (nullable = true)\n",
      " |-- howToEarn: string (nullable = true)\n",
      " |-- howToEarnGolden: string (nullable = true)\n",
      " |-- id: string (nullable = true)\n",
      " |-- mechanics: array (nullable = true)\n",
      " |    |-- element: string (containsNull = true)\n",
      " |-- multiClassGroup: string (nullable = true)\n",
      " |-- name: string (nullable = true)\n",
      " |-- overload: long (nullable = true)\n",
      " |-- playRequirements: struct (nullable = true)\n",
      " |    |-- REQ_DAMAGED_TARGET: long (nullable = true)\n",
      " |    |-- REQ_ENEMY_TARGET: long (nullable = true)\n",
      " |    |-- REQ_ENEMY_WEAPON_EQUIPPED: long (nullable = true)\n",
      " |    |-- REQ_ENTIRE_ENTOURAGE_NOT_IN_PLAY: long (nullable = true)\n",
      " |    |-- REQ_FRIENDLY_MINION_DIED_THIS_GAME: long (nullable = true)\n",
      " |    |-- REQ_FRIENDLY_TARGET: long (nullable = true)\n",
      " |    |-- REQ_FROZEN_TARGET: long (nullable = true)\n",
      " |    |-- REQ_HERO_TARGET: long (nullable = true)\n",
      " |    |-- REQ_LEGENDARY_TARGET: long (nullable = true)\n",
      " |    |-- REQ_MINIMUM_ENEMY_MINIONS: long (nullable = true)\n",
      " |    |-- REQ_MINIMUM_TOTAL_MINIONS: long (nullable = true)\n",
      " |    |-- REQ_MINION_OR_ENEMY_HERO: long (nullable = true)\n",
      " |    |-- REQ_MINION_SLOT_OR_MANA_CRYSTAL_SLOT: long (nullable = true)\n",
      " |    |-- REQ_MINION_TARGET: long (nullable = true)\n",
      " |    |-- REQ_MUST_TARGET_TAUNTER: long (nullable = true)\n",
      " |    |-- REQ_NONSELF_TARGET: long (nullable = true)\n",
      " |    |-- REQ_NUM_MINION_SLOTS: long (nullable = true)\n",
      " |    |-- REQ_SECRET_CAP_FOR_NON_SECRET: long (nullable = true)\n",
      " |    |-- REQ_STEADY_SHOT: long (nullable = true)\n",
      " |    |-- REQ_STEALTHED_TARGET: long (nullable = true)\n",
      " |    |-- REQ_TARGET_FOR_COMBO: long (nullable = true)\n",
      " |    |-- REQ_TARGET_IF_AVAILABLE: long (nullable = true)\n",
      " |    |-- REQ_TARGET_IF_AVAILABLE_AND_DRAGON_IN_HAND: long (nullable = true)\n",
      " |    |-- REQ_TARGET_IF_AVAILABLE_AND_MINIMUM_FRIENDLY_MINIONS: long (nullable = true)\n",
      " |    |-- REQ_TARGET_IF_AVAILABLE_AND_MINIMUM_FRIENDLY_SECRETS: long (nullable = true)\n",
      " |    |-- REQ_TARGET_MAX_ATTACK: long (nullable = true)\n",
      " |    |-- REQ_TARGET_MIN_ATTACK: long (nullable = true)\n",
      " |    |-- REQ_TARGET_TO_PLAY: long (nullable = true)\n",
      " |    |-- REQ_TARGET_WITH_DEATHRATTLE: long (nullable = true)\n",
      " |    |-- REQ_TARGET_WITH_RACE: long (nullable = true)\n",
      " |    |-- REQ_UNDAMAGED_TARGET: long (nullable = true)\n",
      " |    |-- REQ_WEAPON_EQUIPPED: long (nullable = true)\n",
      " |-- playerClass: string (nullable = true)\n",
      " |-- race: string (nullable = true)\n",
      " |-- rarity: string (nullable = true)\n",
      " |-- referencedTags: array (nullable = true)\n",
      " |    |-- element: string (containsNull = true)\n",
      " |-- set: string (nullable = true)\n",
      " |-- spellDamage: long (nullable = true)\n",
      " |-- targetingArrowText: string (nullable = true)\n",
      " |-- text: string (nullable = true)\n",
      " |-- type: string (nullable = true)\n",
      "\n",
      "+--------------+------+---------+-------+-----------+--------------+----+-----+----------+-----+--------------------+-------+--------------------+------+---------+---------+---------------+---------+--------------------+---------------+----------------+--------+--------------------+-----------+----+---------+--------------+-------+-----------+------------------+--------------------+-----------+\n",
      "|        artist|attack|cardClass|classes|collectible|collectionText|cost|dbfId|durability|elite|           entourage|faction|              flavor|health|hideStats|howToEarn|howToEarnGolden|       id|           mechanics|multiClassGroup|            name|overload|    playRequirements|playerClass|race|   rarity|referencedTags|    set|spellDamage|targetingArrowText|                text|       type|\n",
      "+--------------+------+---------+-------+-----------+--------------+----+-----+----------+-----+--------------------+-------+--------------------+------+---------+---------+---------------+---------+--------------------+---------------+----------------+--------+--------------------+-----------+----+---------+--------------+-------+-----------+------------------+--------------------+-----------+\n",
      "|Zoltan & Gabor|  NULL|   SHAMAN|   NULL|       true|          NULL|   2|  404|      NULL| NULL|                NULL|   NULL|It was just a fle...|  NULL|     NULL|     NULL|           NULL|  CS2_038|                NULL|           NULL|Ancestral Spirit|    NULL|{NULL, NULL, NULL...|     SHAMAN|NULL|     RARE| [DEATHRATTLE]|EXPERT1|       NULL|              NULL|Give a minion \"<b...|      SPELL|\n",
      "|          NULL|  NULL|  NEUTRAL|   NULL|       NULL|          NULL|NULL| 2643|      NULL| NULL|[BRMA14_10, BRMA1...|   NULL|                NULL|  NULL|     NULL|     NULL|           NULL|   TB_001|                NULL|           NULL| Boss HP Swapper|    NULL|                NULL|    NEUTRAL|NULL|     NULL|          NULL|     TB|       NULL|              NULL|                NULL|ENCHANTMENT|\n",
      "|          NULL|  NULL|  NEUTRAL|   NULL|       NULL|          NULL|   1| 2325|      NULL| NULL|                NULL|   NULL|                NULL|  NULL|     NULL|     NULL|           NULL| BRMA04_2|      [AI_MUST_PLAY]|           NULL|     Magma Pulse|    NULL|                NULL|    NEUTRAL|NULL|     NULL|          NULL|    BRM|       NULL|              NULL|<b>Hero Power</b>...| HERO_POWER|\n",
      "| John Polidora|    10|  NEUTRAL|   NULL|       true|          NULL|   9| 2725|      NULL| true|                NULL|   NULL|This massive yeti...|    10|     NULL|     NULL|           NULL|   AT_125|            [CHARGE]|           NULL|         Icehowl|    NULL|                NULL|    NEUTRAL|NULL|LEGENDARY|          NULL|    TGT|       NULL|              NULL|<b>Charge</b>\\nCa...|     MINION|\n",
      "|          NULL|  NULL|  WARRIOR|   NULL|       NULL|          NULL|NULL|  521|      NULL| NULL|                NULL|   NULL|                NULL|  NULL|     NULL|     NULL|           NULL|NEW1_036e|[TAG_ONE_TURN_EFF...|           NULL|Commanding Shout|    NULL|                NULL|    WARRIOR|NULL|     NULL|          NULL|EXPERT1|       NULL|              NULL|Can't be reduced ...|ENCHANTMENT|\n",
      "+--------------+------+---------+-------+-----------+--------------+----+-----+----------+-----+--------------------+-------+--------------------+------+---------+---------+---------------+---------+--------------------+---------------+----------------+--------+--------------------+-----------+----+---------+--------------+-------+-----------+------------------+--------------------+-----------+\n",
      "only showing top 5 rows\n",
      "\n"
     ]
    }
   ],
   "source": [
    "file_path = \"sample_data/cards (2).json\"\n",
    "data = spark.read.json(file_path)\n",
    "data.printSchema()\n",
    "data.show(5)"
   ]
  },
  {
   "cell_type": "code",
   "execution_count": 4,
   "id": "38fcff43",
   "metadata": {
    "colab": {
     "base_uri": "https://localhost:8080/"
    },
    "id": "38fcff43",
    "outputId": "c8b62aa7-33c5-424e-9836-28803c25a586"
   },
   "outputs": [
    {
     "output_type": "stream",
     "name": "stdout",
     "text": [
      "+-------------+------+---------+-------+-----------+--------------+----+-----+----------+-----+---------+--------+--------------------+------+---------+--------------------+--------------------+-------+-----------+---------------+-----------------+--------+----------------+-----------+----+---------+--------------+-------+-----------+------------------+--------------------+------+\n",
      "|       artist|attack|cardClass|classes|collectible|collectionText|cost|dbfId|durability|elite|entourage| faction|              flavor|health|hideStats|           howToEarn|     howToEarnGolden|     id|  mechanics|multiClassGroup|             name|overload|playRequirements|playerClass|race|   rarity|referencedTags|    set|spellDamage|targetingArrowText|                text|  type|\n",
      "+-------------+------+---------+-------+-----------+--------------+----+-----+----------+-----+---------+--------+--------------------+------+---------+--------------------+--------------------+-------+-----------+---------------+-----------------+--------+----------------+-----------+----+---------+--------------+-------+-----------+------------------+--------------------+------+\n",
      "|John Polidora|    10|  NEUTRAL|   NULL|       true|          NULL|   9| 2725|      NULL| true|     NULL|    NULL|This massive yeti...|    10|     NULL|                NULL|                NULL| AT_125|   [CHARGE]|           NULL|          Icehowl|    NULL|            NULL|    NEUTRAL|NULL|LEGENDARY|          NULL|    TGT|       NULL|              NULL|<b>Charge</b>\\nCa...|MINION|\n",
      "|   Glenn Rane|     3|  NEUTRAL|   NULL|       true|          NULL|   4| 1799|      NULL| NULL|     NULL|    NULL|This soul just <i...|     5|     NULL|Unlocked in The C...|Crafting unlocked...|FP1_016|[BATTLECRY]|           NULL|     Wailing Soul|    NULL|            NULL|    NEUTRAL|NULL|     RARE|     [SILENCE]|   NAXX|       NULL|              NULL|<b>Battlecry: Sil...|MINION|\n",
      "|  James Ryman|     2|  NEUTRAL|   NULL|       true|          NULL|   2|  891|      NULL| NULL|     NULL|ALLIANCE|She carries a shi...|     3|     NULL|                NULL|                NULL|EX1_058|[BATTLECRY]|           NULL|Sunfury Protector|    NULL|            NULL|    NEUTRAL|NULL|     RARE|       [TAUNT]|EXPERT1|       NULL|              NULL|<b>Battlecry:</b>...|MINION|\n",
      "| George Davis|     2|  WARLOCK|   NULL|       true|          NULL|   2| 2895|      NULL| NULL|     NULL|    NULL|I'm offering you ...|     2|     NULL|Unlocked in the T...|Crafting unlocked...|LOE_023|[BATTLECRY]|           NULL|     Dark Peddler|    NULL|            NULL|    WARLOCK|NULL|   COMMON|    [DISCOVER]|    LOE|       NULL|              NULL|<b>Battlecry: Dis...|MINION|\n",
      "|Garrett Hanna|     5|  NEUTRAL|   NULL|       true|          NULL|   4|40607|      NULL| true|     NULL|    NULL|Infamous in the s...|     4|     NULL|                NULL|                NULL|CFM_808|       NULL|           NULL| Genzo, the Shark|    NULL|            NULL|    NEUTRAL|NULL|LEGENDARY|          NULL|  GANGS|       NULL|              NULL|Whenever this att...|MINION|\n",
      "+-------------+------+---------+-------+-----------+--------------+----+-----+----------+-----+---------+--------+--------------------+------+---------+--------------------+--------------------+-------+-----------+---------------+-----------------+--------+----------------+-----------+----+---------+--------------+-------+-----------+------------------+--------------------+------+\n",
      "only showing top 5 rows\n",
      "\n"
     ]
    }
   ],
   "source": [
    "# remove samples without 'artist', 'attack', or 'health' values\n",
    "data_cleaned = data.filter(col(\"artist\").isNotNull() & col(\"attack\").isNotNull() & col(\"health\").isNotNull()).cache()\n",
    "data_cleaned.show(5)"
   ]
  },
  {
   "cell_type": "code",
   "execution_count": 5,
   "id": "5f812117",
   "metadata": {
    "colab": {
     "base_uri": "https://localhost:8080/"
    },
    "id": "5f812117",
    "outputId": "5c009c35-6b08-497b-a28d-e527991290f5"
   },
   "outputs": [
    {
     "output_type": "stream",
     "name": "stdout",
     "text": [
      "Column: artist | Non-Null Rows: 829 | Unique Values: 234\n",
      "Column: attack | Non-Null Rows: 829 | Unique Values: 31\n",
      "Column: cardClass | Non-Null Rows: 829 | Unique Values: 10\n",
      "Column: classes | Non-Null Rows: 9 | Unique Values: 4\n",
      "Column: collectible | Non-Null Rows: 731 | Unique Values: 2\n",
      "Column: collectionText | Non-Null Rows: 5 | Unique Values: 6\n",
      "Column: cost | Non-Null Rows: 829 | Unique Values: 14\n",
      "Column: dbfId | Non-Null Rows: 829 | Unique Values: 829\n",
      "Column: durability | Non-Null Rows: 0 | Unique Values: 1\n",
      "Column: elite | Non-Null Rows: 141 | Unique Values: 2\n",
      "Column: entourage | Non-Null Rows: 6 | Unique Values: 7\n",
      "Column: faction | Non-Null Rows: 60 | Unique Values: 3\n",
      "Column: flavor | Non-Null Rows: 731 | Unique Values: 732\n",
      "Column: health | Non-Null Rows: 829 | Unique Values: 30\n",
      "Column: hideStats | Non-Null Rows: 2 | Unique Values: 2\n",
      "Column: howToEarn | Non-Null Rows: 136 | Unique Values: 27\n",
      "Column: howToEarnGolden | Non-Null Rows: 181 | Unique Values: 77\n",
      "Column: id | Non-Null Rows: 829 | Unique Values: 829\n",
      "Column: mechanics | Non-Null Rows: 553 | Unique Values: 49\n",
      "Column: multiClassGroup | Non-Null Rows: 9 | Unique Values: 4\n",
      "Column: name | Non-Null Rows: 829 | Unique Values: 791\n",
      "Column: overload | Non-Null Rows: 9 | Unique Values: 4\n",
      "Column: playRequirements | Non-Null Rows: 81 | Unique Values: 34\n",
      "Column: playerClass | Non-Null Rows: 829 | Unique Values: 10\n",
      "Column: race | Non-Null Rows: 240 | Unique Values: 8\n",
      "Column: rarity | Non-Null Rows: 744 | Unique Values: 6\n",
      "Column: referencedTags | Non-Null Rows: 131 | Unique Values: 23\n",
      "Column: set | Non-Null Rows: 829 | Unique Values: 12\n",
      "Column: spellDamage | Non-Null Rows: 14 | Unique Values: 4\n",
      "Column: targetingArrowText | Non-Null Rows: 49 | Unique Values: 40\n",
      "Column: text | Non-Null Rows: 734 | Unique Values: 648\n",
      "Column: type | Non-Null Rows: 829 | Unique Values: 1\n"
     ]
    }
   ],
   "source": [
    "# num of non-null rows and unique values\n",
    "for column_name in data_cleaned.columns:\n",
    "    non_null_count = data_cleaned.filter(col(column_name).isNotNull()).count()\n",
    "    unique_count = data_cleaned.select(column_name).distinct().count()\n",
    "    print(f\"Column: {column_name} | Non-Null Rows: {non_null_count} | Unique Values: {unique_count}\")"
   ]
  },
  {
   "cell_type": "code",
   "execution_count": 6,
   "id": "da3051c2",
   "metadata": {
    "colab": {
     "base_uri": "https://localhost:8080/"
    },
    "id": "da3051c2",
    "outputId": "b44e37b9-8728-4f87-b9a5-e251fa94c879"
   },
   "outputs": [
    {
     "output_type": "stream",
     "name": "stdout",
     "text": [
      "+-------------+------+---------+-------+-----------+--------------+----+-----+----------+-----+---------+--------+--------------------+------+---------+--------------------+--------------------+-------+-----------+---------------+-----------------+--------+----------------+-----------+----+---------+--------------+-------+-----------+------------------+--------------------+------+----------+\n",
      "|       artist|attack|cardClass|classes|collectible|collectionText|cost|dbfId|durability|elite|entourage| faction|              flavor|health|hideStats|           howToEarn|     howToEarnGolden|     id|  mechanics|multiClassGroup|             name|overload|playRequirements|playerClass|race|   rarity|referencedTags|    set|spellDamage|targetingArrowText|                text|  type|rarity_int|\n",
      "+-------------+------+---------+-------+-----------+--------------+----+-----+----------+-----+---------+--------+--------------------+------+---------+--------------------+--------------------+-------+-----------+---------------+-----------------+--------+----------------+-----------+----+---------+--------------+-------+-----------+------------------+--------------------+------+----------+\n",
      "|John Polidora|    10|  NEUTRAL|   NULL|       true|          NULL|   9| 2725|      NULL| true|     NULL|    NULL|This massive yeti...|    10|     NULL|                NULL|                NULL| AT_125|   [CHARGE]|           NULL|          Icehowl|    NULL|            NULL|    NEUTRAL|NULL|LEGENDARY|          NULL|    TGT|       NULL|              NULL|<b>Charge</b>\\nCa...|MINION|         5|\n",
      "|   Glenn Rane|     3|  NEUTRAL|   NULL|       true|          NULL|   4| 1799|      NULL| NULL|     NULL|    NULL|This soul just <i...|     5|     NULL|Unlocked in The C...|Crafting unlocked...|FP1_016|[BATTLECRY]|           NULL|     Wailing Soul|    NULL|            NULL|    NEUTRAL|NULL|     RARE|     [SILENCE]|   NAXX|       NULL|              NULL|<b>Battlecry: Sil...|MINION|         3|\n",
      "|  James Ryman|     2|  NEUTRAL|   NULL|       true|          NULL|   2|  891|      NULL| NULL|     NULL|ALLIANCE|She carries a shi...|     3|     NULL|                NULL|                NULL|EX1_058|[BATTLECRY]|           NULL|Sunfury Protector|    NULL|            NULL|    NEUTRAL|NULL|     RARE|       [TAUNT]|EXPERT1|       NULL|              NULL|<b>Battlecry:</b>...|MINION|         3|\n",
      "| George Davis|     2|  WARLOCK|   NULL|       true|          NULL|   2| 2895|      NULL| NULL|     NULL|    NULL|I'm offering you ...|     2|     NULL|Unlocked in the T...|Crafting unlocked...|LOE_023|[BATTLECRY]|           NULL|     Dark Peddler|    NULL|            NULL|    WARLOCK|NULL|   COMMON|    [DISCOVER]|    LOE|       NULL|              NULL|<b>Battlecry: Dis...|MINION|         2|\n",
      "|Garrett Hanna|     5|  NEUTRAL|   NULL|       true|          NULL|   4|40607|      NULL| true|     NULL|    NULL|Infamous in the s...|     4|     NULL|                NULL|                NULL|CFM_808|       NULL|           NULL| Genzo, the Shark|    NULL|            NULL|    NEUTRAL|NULL|LEGENDARY|          NULL|  GANGS|       NULL|              NULL|Whenever this att...|MINION|         5|\n",
      "+-------------+------+---------+-------+-----------+--------------+----+-----+----------+-----+---------+--------+--------------------+------+---------+--------------------+--------------------+-------+-----------+---------------+-----------------+--------+----------------+-----------+----+---------+--------------+-------+-----------+------------------+--------------------+------+----------+\n",
      "only showing top 5 rows\n",
      "\n"
     ]
    }
   ],
   "source": [
    "rarity_mapping = {\n",
    "    'FREE': 1, 'COMMON': 2, 'RARE': 3,\n",
    "    'EPIC': 4, 'LEGENDARY': 5, None: 0\n",
    "}\n",
    "map_rarity = udf(lambda r: rarity_mapping.get(r, 0), IntegerType())  # map rarity to int values using a UDF\n",
    "data_with_rarity = data_cleaned.withColumn(\"rarity_int\", map_rarity(col(\"rarity\")))\n",
    "data_with_rarity.show(5)"
   ]
  },
  {
   "cell_type": "code",
   "execution_count": 7,
   "id": "bc222fa3",
   "metadata": {
    "colab": {
     "base_uri": "https://localhost:8080/"
    },
    "id": "bc222fa3",
    "outputId": "fb7c25a0-1575-42b6-9aa7-5221bbc1c90d"
   },
   "outputs": [
    {
     "output_type": "stream",
     "name": "stdout",
     "text": [
      "+---------+------------------+\n",
      "|cardClass|    average_rarity|\n",
      "+---------+------------------+\n",
      "|   HUNTER|2.4761904761904763|\n",
      "|   SHAMAN|               3.0|\n",
      "|  PALADIN| 2.966666666666667|\n",
      "|     MAGE|2.9393939393939394|\n",
      "|   PRIEST| 2.909090909090909|\n",
      "|  WARLOCK|2.4347826086956523|\n",
      "|  NEUTRAL|2.6706586826347305|\n",
      "|  WARRIOR| 2.735294117647059|\n",
      "|    DRUID| 2.789473684210526|\n",
      "|    ROGUE|3.0526315789473686|\n",
      "+---------+------------------+\n",
      "\n"
     ]
    }
   ],
   "source": [
    "# calc avg rarity for each card class\n",
    "average_rarity = data_with_rarity.groupBy(\"cardClass\").agg(mean(\"rarity_int\").alias(\"average_rarity\"))\n",
    "average_rarity.show()"
   ]
  },
  {
   "cell_type": "code",
   "execution_count": 8,
   "id": "acbcc7fb",
   "metadata": {
    "colab": {
     "base_uri": "https://localhost:8080/"
    },
    "id": "acbcc7fb",
    "outputId": "a6337d1e-26d9-44b7-f22b-c9b2eb865e1b"
   },
   "outputs": [
    {
     "output_type": "stream",
     "name": "stdout",
     "text": [
      "+-----------------+------+------+-----------------+\n",
      "|             name|health|attack|self_kill_attacks|\n",
      "+-----------------+------+------+-----------------+\n",
      "|          Icehowl|    10|    10|                1|\n",
      "|     Wailing Soul|     5|     3|                2|\n",
      "|Sunfury Protector|     3|     2|                2|\n",
      "|     Dark Peddler|     2|     2|                1|\n",
      "| Genzo, the Shark|     4|     5|                1|\n",
      "+-----------------+------+------+-----------------+\n",
      "only showing top 5 rows\n",
      "\n"
     ]
    }
   ],
   "source": [
    "# def a UDF -> number of attacks needed for a card to kill itself\n",
    "@udf(returnType=IntegerType())\n",
    "def calculate_self_kills(health, attack):\n",
    "    if attack == 0:\n",
    "        return -1  # cannot attack\n",
    "    return health // attack + (1 if health % attack != 0 else 0)\n",
    "\n",
    "data_with_attacks = data_with_rarity.withColumn(\"self_kill_attacks\", calculate_self_kills(col(\"health\"), col(\"attack\")))\n",
    "data_with_attacks.select(\"name\", \"health\", \"attack\", \"self_kill_attacks\").show(5)"
   ]
  },
  {
   "cell_type": "code",
   "execution_count": 9,
   "id": "cb76f4a6",
   "metadata": {
    "colab": {
     "base_uri": "https://localhost:8080/"
    },
    "id": "cb76f4a6",
    "outputId": "48848a64-b0de-4bb5-ce75-83cffe0da79e"
   },
   "outputs": [
    {
     "output_type": "stream",
     "name": "stdout",
     "text": [
      "+-------------+------+---------+-------+-----------+--------------+----+-----+----------+-----+---------+--------+--------------------+------+---------+--------------------+--------------------+-------+-----------+---------------+-----------------+--------+----------------+-----------+----+---------+--------------+-------+-----------+------------------+--------------------+------+----------+-----------------+---------+\n",
      "|       artist|attack|cardClass|classes|collectible|collectionText|cost|dbfId|durability|elite|entourage| faction|              flavor|health|hideStats|           howToEarn|     howToEarnGolden|     id|  mechanics|multiClassGroup|             name|overload|playRequirements|playerClass|race|   rarity|referencedTags|    set|spellDamage|targetingArrowText|                text|  type|rarity_int|self_kill_attacks|unique_id|\n",
      "+-------------+------+---------+-------+-----------+--------------+----+-----+----------+-----+---------+--------+--------------------+------+---------+--------------------+--------------------+-------+-----------+---------------+-----------------+--------+----------------+-----------+----+---------+--------------+-------+-----------+------------------+--------------------+------+----------+-----------------+---------+\n",
      "|John Polidora|    10|  NEUTRAL|   NULL|       true|          NULL|   9| 2725|      NULL| true|     NULL|    NULL|This massive yeti...|    10|     NULL|                NULL|                NULL| AT_125|   [CHARGE]|           NULL|          Icehowl|    NULL|            NULL|    NEUTRAL|NULL|LEGENDARY|          NULL|    TGT|       NULL|              NULL|<b>Charge</b>\\nCa...|MINION|         5|                1|        0|\n",
      "|   Glenn Rane|     3|  NEUTRAL|   NULL|       true|          NULL|   4| 1799|      NULL| NULL|     NULL|    NULL|This soul just <i...|     5|     NULL|Unlocked in The C...|Crafting unlocked...|FP1_016|[BATTLECRY]|           NULL|     Wailing Soul|    NULL|            NULL|    NEUTRAL|NULL|     RARE|     [SILENCE]|   NAXX|       NULL|              NULL|<b>Battlecry: Sil...|MINION|         3|                2|        1|\n",
      "|  James Ryman|     2|  NEUTRAL|   NULL|       true|          NULL|   2|  891|      NULL| NULL|     NULL|ALLIANCE|She carries a shi...|     3|     NULL|                NULL|                NULL|EX1_058|[BATTLECRY]|           NULL|Sunfury Protector|    NULL|            NULL|    NEUTRAL|NULL|     RARE|       [TAUNT]|EXPERT1|       NULL|              NULL|<b>Battlecry:</b>...|MINION|         3|                2|        2|\n",
      "| George Davis|     2|  WARLOCK|   NULL|       true|          NULL|   2| 2895|      NULL| NULL|     NULL|    NULL|I'm offering you ...|     2|     NULL|Unlocked in the T...|Crafting unlocked...|LOE_023|[BATTLECRY]|           NULL|     Dark Peddler|    NULL|            NULL|    WARLOCK|NULL|   COMMON|    [DISCOVER]|    LOE|       NULL|              NULL|<b>Battlecry: Dis...|MINION|         2|                1|        3|\n",
      "|Garrett Hanna|     5|  NEUTRAL|   NULL|       true|          NULL|   4|40607|      NULL| true|     NULL|    NULL|Infamous in the s...|     4|     NULL|                NULL|                NULL|CFM_808|       NULL|           NULL| Genzo, the Shark|    NULL|            NULL|    NEUTRAL|NULL|LEGENDARY|          NULL|  GANGS|       NULL|              NULL|Whenever this att...|MINION|         5|                1|        4|\n",
      "+-------------+------+---------+-------+-----------+--------------+----+-----+----------+-----+---------+--------+--------------------+------+---------+--------------------+--------------------+-------+-----------+---------------+-----------------+--------+----------------+-----------+----+---------+--------------+-------+-----------+------------------+--------------------+------+----------+-----------------+---------+\n",
      "only showing top 5 rows\n",
      "\n"
     ]
    }
   ],
   "source": [
    "data_with_ids = data_with_attacks.withColumn(\"unique_id\", monotonically_increasing_id())\n",
    "data_with_ids.show(5)"
   ]
  },
  {
   "cell_type": "code",
   "execution_count": 10,
   "id": "8dc59b65",
   "metadata": {
    "colab": {
     "base_uri": "https://localhost:8080/"
    },
    "id": "8dc59b65",
    "outputId": "1183ef2e-3ebe-4af9-eb11-9551557583c4"
   },
   "outputs": [
    {
     "output_type": "stream",
     "name": "stdout",
     "text": [
      "+---------+-----------+-----------+-----------------+------------+------------+\n",
      "|left_name|left_health|left_attack|       right_name|right_health|right_attack|\n",
      "+---------+-----------+-----------+-----------------+------------+------------+\n",
      "|  Icehowl|         10|         10|     Wailing Soul|           5|           3|\n",
      "|  Icehowl|         10|         10|Sunfury Protector|           3|           2|\n",
      "|  Icehowl|         10|         10|     Dark Peddler|           2|           2|\n",
      "|  Icehowl|         10|         10| Genzo, the Shark|           4|           5|\n",
      "|  Icehowl|         10|         10| Reliquary Seeker|           1|           1|\n",
      "+---------+-----------+-----------+-----------------+------------+------------+\n",
      "only showing top 5 rows\n",
      "\n"
     ]
    }
   ],
   "source": [
    "# simulate pairing\n",
    "data_paired = data_with_ids.alias(\"left\").join(\n",
    "    data_with_ids.alias(\"right\"),\n",
    "    on=data_with_ids[\"unique_id\"] != data_with_ids[\"unique_id\"], how=\"inner\"\n",
    ").select(\n",
    "    col(\"left.name\").alias(\"left_name\"), col(\"left.health\").alias(\"left_health\"), col(\"left.attack\").alias(\"left_attack\"),\n",
    "    col(\"right.name\").alias(\"right_name\"), col(\"right.health\").alias(\"right_health\"), col(\"right.attack\").alias(\"right_attack\")\n",
    ")\n",
    "\n",
    "data_paired.show(5)"
   ]
  },
  {
   "cell_type": "code",
   "execution_count": 11,
   "id": "d579f87e",
   "metadata": {
    "colab": {
     "base_uri": "https://localhost:8080/"
    },
    "id": "d579f87e",
    "outputId": "b7f3fd7b-0fe6-4d71-e28f-f81cb00223db"
   },
   "outputs": [
    {
     "output_type": "stream",
     "name": "stdout",
     "text": [
      "+---------+-------------------+------+\n",
      "|left_name|         right_name|winner|\n",
      "+---------+-------------------+------+\n",
      "|  Icehowl|       Wailing Soul|  Left|\n",
      "|  Icehowl|  Sunfury Protector|  Left|\n",
      "|  Icehowl|       Dark Peddler|  Left|\n",
      "|  Icehowl|   Genzo, the Shark|  Left|\n",
      "|  Icehowl|   Reliquary Seeker|  Left|\n",
      "|  Icehowl|Injured Blademaster|  Left|\n",
      "|  Icehowl|   Hemet Nesingwary|  Left|\n",
      "|  Icehowl|         Core Hound|  Left|\n",
      "|  Icehowl|   Trogg Beastrager|  Left|\n",
      "|  Icehowl| Captured Jormungar|  Left|\n",
      "+---------+-------------------+------+\n",
      "only showing top 10 rows\n",
      "\n"
     ]
    }
   ],
   "source": [
    "@udf(returnType=StringType())\n",
    "def determine_winner(left_health, left_attack, right_health, right_attack):\n",
    "    while left_health > 0 and right_health > 0:\n",
    "        right_health -= left_attack\n",
    "        if right_health <= 0:\n",
    "            return \"Left\"\n",
    "        left_health -= right_attack\n",
    "    return \"Right\"\n",
    "\n",
    "data_battles = data_paired.withColumn(\"winner\", determine_winner(\n",
    "    col(\"left_health\"), col(\"left_attack\"), col(\"right_health\"), col(\"right_attack\")))\n",
    "data_battles.select(\"left_name\", \"right_name\", \"winner\").show(10)"
   ]
  }
 ],
 "metadata": {
  "colab": {
   "provenance": []
  },
  "language_info": {
   "name": "python"
  },
  "kernelspec": {
   "name": "python3",
   "display_name": "Python 3"
  }
 },
 "nbformat": 4,
 "nbformat_minor": 5
}
